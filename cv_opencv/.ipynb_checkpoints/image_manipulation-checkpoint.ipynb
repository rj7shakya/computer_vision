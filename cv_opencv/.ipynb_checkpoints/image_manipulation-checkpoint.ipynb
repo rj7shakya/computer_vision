{
 "cells": [
  {
   "cell_type": "code",
   "execution_count": 1,
   "metadata": {},
   "outputs": [],
   "source": [
    "#translation\n",
    "\n",
    "import cv2\n",
    "import numpy as np\n",
    "\n",
    "image = cv2.imread('red.jpg')"
   ]
  },
  {
   "cell_type": "code",
   "execution_count": 2,
   "metadata": {},
   "outputs": [],
   "source": [
    "height, width = image.shape[:2]\n",
    "tx,ty = height/4, width/4\n",
    "t= np.float32([[1,0,tx],[0,1,ty]])\n",
    "\n",
    "trans = cv2.warpAffine(image,t,(height,width))\n",
    "cv2.imshow('Translation',trans)\n",
    "cv2.waitKey()\n",
    "cv2.destroyAllWindows()"
   ]
  },
  {
   "cell_type": "code",
   "execution_count": 3,
   "metadata": {},
   "outputs": [],
   "source": [
    "# rotation\n",
    "h,w = image.shape[:2]\n",
    "rot_mat = cv2.getRotationMatrix2D((w/2,h/2),90,1)\n",
    "rot_img = cv2.warpAffine(image, rot_mat,(w,h))\n",
    "cv2.imshow('rotation',rot_img)\n",
    "cv2.waitKey()\n",
    "cv2.destroyAllWindows()"
   ]
  },
  {
   "cell_type": "code",
   "execution_count": null,
   "metadata": {},
   "outputs": [],
   "source": [
    "#rescaling ,resizing,interpolation\n",
    "\n",
    "image_scaled = cv2.resize(image,None,fx=0.75,fy=0.75)\n",
    "cv2.imshow('linear interpolation',image_scaled)\n",
    "cv2.waitKey()\n",
    "\n",
    "image_scale3 = cv2.resize(image,None,fx=2,fy=2,interpolation =cv2.INTER_CUBIC)\n",
    "cv2.imshow('cubic interpolation',image_scale3)\n",
    "cv2.waitKey()\n",
    "\n",
    "image_scalea = cv2.resize(image,(900,400),interpolation =cv2.INTER_AREA)\n",
    "cv2.imshow('skew size',image_scalea)\n",
    "cv2.waitKey()\n",
    "\n",
    "cv2.destroyAllWindows()"
   ]
  },
  {
   "cell_type": "code",
   "execution_count": null,
   "metadata": {},
   "outputs": [],
   "source": [
    "#image pyramids\n",
    "smaller = cv2.pyrDown(image)\n",
    "larger = cv2.pyrUp(smaller)\n",
    "cv2.imshow('original',image)\n",
    "cv2.waitKey()\n",
    "cv2.imshow('smaller',smaller)\n",
    "cv2.waitKey()\n",
    "cv2.imshow('larger',larger)\n",
    "cv2.waitKey()\n",
    "cv2.destroyAllWindows()"
   ]
  },
  {
   "cell_type": "code",
   "execution_count": null,
   "metadata": {},
   "outputs": [],
   "source": [
    "#cropping\n",
    "h,w = image.shape[:2]\n",
    "start_row, start_col = int(height*.25),int(width*.25)\n",
    "end_row, end_col = int(height*.75),int(width*.75)\n",
    "cropped = image[start_row:end_row , start_col:end_col]\n",
    "cv2.imshow('original ',image)\n",
    "cv2.waitKey()\n",
    "cv2.imshow('cropped',cropped)\n",
    "cv2.waitKey()\n",
    "cv2.destroyAllWindows()"
   ]
  },
  {
   "cell_type": "code",
   "execution_count": null,
   "metadata": {},
   "outputs": [],
   "source": [
    "#arithematic operations \n",
    "M = np.ones(image.shape,dtype=\"uint8\")*75\n",
    "\n",
    "added = cv2.add(image,M)\n",
    "cv2.imshow('added ',added)\n",
    "cv2.waitKey()\n",
    "\n",
    "substracted = cv2.subtract(image, M)\n",
    "cv2.imshow('substracted',substracted)\n",
    "cv2.waitKey()\n",
    "cv2.destroyAllWindows()"
   ]
  },
  {
   "cell_type": "code",
   "execution_count": null,
   "metadata": {},
   "outputs": [],
   "source": [
    "#bitwise operator\n",
    "square = np.zeros((300,300), np.uint8)\n",
    "cv2.rectangle(square,(50,50),(250,250),255,-2)\n",
    "cv2.imshow('square ',square)\n",
    "cv2.waitKey()\n",
    "\n",
    "ellipse = np.zeros((300,300), np.uint8)\n",
    "cv2.ellipse(ellipse,(150,150),(150,150),30,0,180,255,-1)\n",
    "cv2.imshow('ellipse',ellipse)\n",
    "cv2.waitKey()\n",
    "\n",
    "cv2.destroyAllWindows()"
   ]
  },
  {
   "cell_type": "code",
   "execution_count": null,
   "metadata": {},
   "outputs": [],
   "source": [
    "#masking\n",
    "And = cv2.bitwise_and(square,ellipse)\n",
    "cv2.imshow('and ',And)\n",
    "cv2.waitKey()\n",
    "\n",
    "Or = cv2.bitwise_or(square,ellipse)\n",
    "cv2.imshow('or',Or)\n",
    "cv2.waitKey()\n",
    "\n",
    "Xor = cv2.bitwise_xor(square,ellipse)\n",
    "cv2.imshow('xor ',Xor)\n",
    "cv2.waitKey()\n",
    "\n",
    "Not = cv2.bitwise_not(ellipse)\n",
    "cv2.imshow('not ',Not)\n",
    "cv2.waitKey()\n",
    "cv2.destroyAllWindows()"
   ]
  },
  {
   "cell_type": "code",
   "execution_count": null,
   "metadata": {},
   "outputs": [],
   "source": [
    "#convolution_blurring\n",
    "cv2.imshow('original image',image)\n",
    "cv2.waitKey(0)\n",
    "\n",
    "kernel = np.ones((3,3),np.float32)/9\n",
    "blurr1 = cv2.filter2D(image,-1,kernel)\n",
    "cv2.imshow('3*3 blurr ',blurr1)\n",
    "cv2.waitKey()\n",
    "\n",
    "kernel7 = np.ones((7,7),np.float32)/49\n",
    "blurr2 = cv2.filter2D(image,-1,kernel7)\n",
    "cv2.imshow('7*7 blurr ',blurr2)\n",
    "cv2.waitKey()\n",
    "\n",
    "cv2.destroyAllWindows()"
   ]
  },
  {
   "cell_type": "code",
   "execution_count": null,
   "metadata": {},
   "outputs": [],
   "source": [
    "blurr3 = cv2.blur(image,(3,3))\n",
    "cv2.imshow('averaging',blurr3)\n",
    "cv2.waitKey()\n",
    "\n",
    "blurr4 = cv2.GaussianBlur(image,(7,7),0)\n",
    "cv2.imshow('gaussian',blurr4)\n",
    "cv2.waitKey()\n",
    "\n",
    "blurr5 = cv2.medianBlur(image,5)\n",
    "cv2.imshow('medianBlur',blurr5)\n",
    "cv2.waitKey()\n",
    "\n",
    "blurr6 = cv2.bilateralFilter(image,9,75,75)\n",
    "cv2.imshow('bilateral Blur',blurr6)\n",
    "cv2.waitKey()\n",
    "\n",
    "cv2.destroyAllWindows()"
   ]
  },
  {
   "cell_type": "code",
   "execution_count": null,
   "metadata": {},
   "outputs": [],
   "source": [
    "#denoising\n",
    "dst = cv2.fastNlMeansDenoisingColored(image, None,6,6,7,21)\n",
    "cv2.imshow('bilateral Blur',blurr6)\n",
    "cv2.waitKey()\n",
    "\n",
    "cv2.destroyAllWindows()"
   ]
  },
  {
   "cell_type": "code",
   "execution_count": null,
   "metadata": {},
   "outputs": [],
   "source": [
    "#sharpening \n",
    "cv2.imshow('original',image)\n",
    "kernel_sharpening = np.array([[-1,-1,-1],\n",
    "                              [-1,9,-1],\n",
    "                              [-1,-1,-1]])\n",
    "sharpened = cv2.filter2D(image,-1,kernel_sharpening)\n",
    "cv2.imshow('image sharpening',sharpened)\n",
    "cv2.waitKey()\n",
    "\n",
    "cv2.destroyAllWindows()"
   ]
  },
  {
   "cell_type": "code",
   "execution_count": null,
   "metadata": {},
   "outputs": [],
   "source": [
    "#thresolding ,binarization\n",
    "cv2.imshow('org',image)\n",
    "\n",
    "ret,thresh1 = cv2.threshold(image, 127,255,cv2.THRESH_BINARY)\n",
    "cv2.imshow('thres binary',thresh1)\n",
    "\n",
    "ret,thresh2 = cv2.threshold(image, 127,255,cv2.THRESH_BINARY_INV)\n",
    "cv2.imshow('inv thres binary',thresh2)\n",
    "\n",
    "\n",
    "ret,thresh3 = cv2.threshold(image, 127,255,cv2.THRESH_TRUNC)\n",
    "cv2.imshow('trunc thres binary',thresh3)\n",
    "\n",
    "\n",
    "ret,thresh4 = cv2.threshold(image, 127,255,cv2.THRESH_TOZERO)\n",
    "cv2.imshow('tozero thres binary',thresh4)\n",
    "\n",
    "ret,thresh5 = cv2.threshold(image, 127,255,cv2.THRESH_TOZERO_INV)\n",
    "cv2.imshow('inv tozero thres binary',thresh5)\n",
    "\n",
    "cv2.waitKey()\n",
    "\n",
    "cv2.destroyAllWindows()"
   ]
  },
  {
   "cell_type": "code",
   "execution_count": null,
   "metadata": {},
   "outputs": [],
   "source": [
    "#adaptive thresolding\n",
    "\n",
    "ret,thresh1 = cv2.threshold(image, 127,255,cv2.THRESH_BINARY)\n",
    "cv2.imshow('thres binary',thresh1)\n",
    "cv2.waitKey(0)\n",
    "\n",
    "# image = cv2.GaussianBlur(image,(3,3),0)\n",
    "# thresh1 = cv2.adaptiveThreshold(image,255,cv2.ADAPTIVE_THRESH_MEAN_C,cv2.THRESH_BINARY,3,5)\n",
    "# cv2.imshow('thres binary',thresh1)\n",
    "# cv2.waitKey(0)\n",
    "\n",
    "blur = cv2.GaussianBlur(image,(3,3),0)\n",
    "_,thresh2 = cv2.threshold(blur,0,255,cv2.THRESH_BINARY + cv2.THRESH_OTSU)\n",
    "cv2.imshow('thres binary',thresh2)\n",
    "cv2.waitKey(0)\n",
    "\n",
    "image = cv2.GaussianBlur(image,(5,5),0)\n",
    "_,thresh3 = cv2.threshold(image,0,255,cv2.THRESH_BINARY+cv2.THRESH_OTSU)\n",
    "cv2.imshow('thres binary',thresh3)\n",
    "cv2.waitKey(0)\n",
    "\n",
    "cv2.destroyAllWindows()"
   ]
  },
  {
   "cell_type": "code",
   "execution_count": null,
   "metadata": {},
   "outputs": [],
   "source": [
    "#dilation erosion \n",
    "\n",
    "import cv2\n",
    "import numpy as np\n",
    "\n",
    "image = cv2.imread('red.jpg')\n",
    "cv2.imshow('original',image)\n",
    "cv2.waitKey(0)\n",
    "\n",
    "kernel = np.ones((5,5),np.uint8)\n",
    "\n",
    "erosion = cv2.erode(image,kernel,iterations=1)\n",
    "cv2.imshow('erosion',erosion)\n",
    "cv2.waitKey(0)\n",
    "\n",
    "dilution = cv2.dilate(image,kernel,iterations=1)\n",
    "cv2.imshow('dilution',dilution)\n",
    "cv2.waitKey(0)\n",
    "\n",
    "opening = cv2.morphologyEx(image,cv2.MORPH_OPEN,kernel)\n",
    "cv2.imshow('opening',opening)\n",
    "cv2.waitKey(0)\n",
    "\n",
    "closing = cv2.morphologyEx(image,cv2.MORPH_CLOSE,kernel)\n",
    "cv2.imshow('closing',closing)\n",
    "cv2.waitKey(0)\n",
    "\n",
    "cv2.destroyAllWindows()"
   ]
  },
  {
   "cell_type": "code",
   "execution_count": null,
   "metadata": {},
   "outputs": [],
   "source": [
    "#edge detection\n",
    "import cv2\n",
    "import numpy as np\n",
    "\n",
    "image = cv2.imread('apple.jpg',0)\n",
    "\n",
    "h,w = image.shape\n",
    "\n",
    "sobel_x = cv2.Sobel(image, cv2.CV_64F,0,1,ksize=5)\n",
    "sobel_y  = cv2.Sobel(image, cv2.CV_64F,1,0,ksize=5)\n",
    "\n",
    "cv2.imshow('original',image)\n",
    "cv2.waitKey(0)\n",
    "cv2.imshow('x',sobel_x)\n",
    "cv2.waitKey(0)\n",
    "cv2.imshow('y',sobel_y)\n",
    "cv2.waitKey(0)\n",
    "\n",
    "s_or = cv2.bitwise_or(sobel_x,sobel_y)\n",
    "cv2.imshow('s_or',s_or)\n",
    "cv2.waitKey(0)\n",
    "\n",
    "lap = cv2.Laplacian(image,cv2.CV_64F)\n",
    "cv2.imshow('lap',lap)\n",
    "cv2.waitKey(0)\n",
    "\n",
    "#canny\n",
    "canny = cv2.Canny(image,20,170)\n",
    "cv2.imshow('canny',canny)\n",
    "cv2.waitKey(0)\n",
    "\n",
    "cv2.destroyAllWindows()"
   ]
  },
  {
   "cell_type": "code",
   "execution_count": 1,
   "metadata": {},
   "outputs": [
    {
     "ename": "error",
     "evalue": "OpenCV(4.0.1) /io/opencv/modules/imgproc/src/color.cpp:181: error: (-215:Assertion failed) !_src.empty() in function 'cvtColor'\n",
     "output_type": "error",
     "traceback": [
      "\u001b[0;31m---------------------------------------------------------------------------\u001b[0m",
      "\u001b[0;31merror\u001b[0m                                     Traceback (most recent call last)",
      "\u001b[0;32m<ipython-input-1-1dd16939edb7>\u001b[0m in \u001b[0;36m<module>\u001b[0;34m()\u001b[0m\n\u001b[1;32m     14\u001b[0m \u001b[0;32mwhile\u001b[0m \u001b[0;32mTrue\u001b[0m\u001b[0;34m:\u001b[0m\u001b[0;34m\u001b[0m\u001b[0m\n\u001b[1;32m     15\u001b[0m     \u001b[0mret\u001b[0m \u001b[0;34m,\u001b[0m\u001b[0mframe\u001b[0m \u001b[0;34m=\u001b[0m \u001b[0mcap\u001b[0m\u001b[0;34m.\u001b[0m\u001b[0mread\u001b[0m\u001b[0;34m(\u001b[0m\u001b[0;34m)\u001b[0m\u001b[0;34m\u001b[0m\u001b[0m\n\u001b[0;32m---> 16\u001b[0;31m     \u001b[0mcv2\u001b[0m\u001b[0;34m.\u001b[0m\u001b[0mimshow\u001b[0m\u001b[0;34m(\u001b[0m\u001b[0;34m'sketch'\u001b[0m\u001b[0;34m,\u001b[0m\u001b[0msketch\u001b[0m\u001b[0;34m(\u001b[0m\u001b[0mframe\u001b[0m\u001b[0;34m)\u001b[0m\u001b[0;34m)\u001b[0m\u001b[0;34m\u001b[0m\u001b[0m\n\u001b[0m\u001b[1;32m     17\u001b[0m     \u001b[0;32mif\u001b[0m \u001b[0mcv2\u001b[0m\u001b[0;34m.\u001b[0m\u001b[0mwaitKey\u001b[0m\u001b[0;34m(\u001b[0m\u001b[0;36m1\u001b[0m\u001b[0;34m)\u001b[0m \u001b[0;34m==\u001b[0m \u001b[0;36m13\u001b[0m\u001b[0;34m:\u001b[0m\u001b[0;34m\u001b[0m\u001b[0m\n\u001b[1;32m     18\u001b[0m         \u001b[0;32mbreak\u001b[0m\u001b[0;34m\u001b[0m\u001b[0m\n",
      "\u001b[0;32m<ipython-input-1-1dd16939edb7>\u001b[0m in \u001b[0;36msketch\u001b[0;34m(image)\u001b[0m\n\u001b[1;32m      4\u001b[0m \u001b[0;34m\u001b[0m\u001b[0m\n\u001b[1;32m      5\u001b[0m \u001b[0;32mdef\u001b[0m \u001b[0msketch\u001b[0m\u001b[0;34m(\u001b[0m\u001b[0mimage\u001b[0m\u001b[0;34m)\u001b[0m\u001b[0;34m:\u001b[0m\u001b[0;34m\u001b[0m\u001b[0m\n\u001b[0;32m----> 6\u001b[0;31m     \u001b[0mimg_gray\u001b[0m \u001b[0;34m=\u001b[0m \u001b[0mcv2\u001b[0m\u001b[0;34m.\u001b[0m\u001b[0mcvtColor\u001b[0m\u001b[0;34m(\u001b[0m\u001b[0mimage\u001b[0m\u001b[0;34m,\u001b[0m\u001b[0mcv2\u001b[0m\u001b[0;34m.\u001b[0m\u001b[0mCOLOR_BGR2GRAY\u001b[0m\u001b[0;34m)\u001b[0m\u001b[0;34m\u001b[0m\u001b[0m\n\u001b[0m\u001b[1;32m      7\u001b[0m     \u001b[0mimg_gray_blur\u001b[0m \u001b[0;34m=\u001b[0m \u001b[0mcv2\u001b[0m\u001b[0;34m.\u001b[0m\u001b[0mGaussianBlur\u001b[0m\u001b[0;34m(\u001b[0m\u001b[0mimg_gray\u001b[0m\u001b[0;34m,\u001b[0m\u001b[0;34m(\u001b[0m\u001b[0;36m5\u001b[0m\u001b[0;34m,\u001b[0m\u001b[0;36m5\u001b[0m\u001b[0;34m)\u001b[0m\u001b[0;34m,\u001b[0m\u001b[0;36m0\u001b[0m\u001b[0;34m)\u001b[0m\u001b[0;34m\u001b[0m\u001b[0m\n\u001b[1;32m      8\u001b[0m     \u001b[0mcanny_edges\u001b[0m \u001b[0;34m=\u001b[0m \u001b[0mcv2\u001b[0m\u001b[0;34m.\u001b[0m\u001b[0mCanny\u001b[0m\u001b[0;34m(\u001b[0m\u001b[0mimg_gray_blur\u001b[0m\u001b[0;34m,\u001b[0m\u001b[0;36m10\u001b[0m\u001b[0;34m,\u001b[0m\u001b[0;36m70\u001b[0m\u001b[0;34m)\u001b[0m\u001b[0;34m\u001b[0m\u001b[0m\n",
      "\u001b[0;31merror\u001b[0m: OpenCV(4.0.1) /io/opencv/modules/imgproc/src/color.cpp:181: error: (-215:Assertion failed) !_src.empty() in function 'cvtColor'\n"
     ]
    }
   ],
   "source": [
    "#sketch_app\n",
    "import cv2 \n",
    "import numpy as np\n",
    "\n",
    "def sketch(image):\n",
    "    img_gray = cv2.cvtColor(image,cv2.COLOR_BGR2GRAY)\n",
    "    img_gray_blur = cv2.GaussianBlur(img_gray,(5,5),0)\n",
    "    canny_edges = cv2.Canny(img_gray_blur,10,70)\n",
    "    ret,mask = cv2.threshold(canny_edges,70,255,cv2.THRESH_BINARY_INV)\n",
    "    return mask\n",
    "\n",
    "cap = cv2.VideoCapture(0)\n",
    "\n",
    "while True:\n",
    "    ret ,frame = cap.read()\n",
    "    cv2.imshow('sketch',sketch(frame))\n",
    "    if cv2.waitKey(1) == 13:\n",
    "        break\n",
    "    \n",
    "cap.release()\n",
    "cv2.destroyAllWindows()"
   ]
  },
  {
   "cell_type": "code",
   "execution_count": null,
   "metadata": {},
   "outputs": [],
   "source": []
  }
 ],
 "metadata": {
  "kernelspec": {
   "display_name": "Python 3",
   "language": "python",
   "name": "python3"
  },
  "language_info": {
   "codemirror_mode": {
    "name": "ipython",
    "version": 3
   },
   "file_extension": ".py",
   "mimetype": "text/x-python",
   "name": "python",
   "nbconvert_exporter": "python",
   "pygments_lexer": "ipython3",
   "version": "3.6.5"
  }
 },
 "nbformat": 4,
 "nbformat_minor": 2
}
