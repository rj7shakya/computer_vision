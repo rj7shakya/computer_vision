{
 "cells": [
  {
   "cell_type": "code",
   "execution_count": 1,
   "metadata": {},
   "outputs": [],
   "source": [
    "import cv2\n"
   ]
  },
  {
   "cell_type": "code",
   "execution_count": 2,
   "metadata": {},
   "outputs": [],
   "source": [
    "cap = cv2.VideoCapture('data/video2.avi')\n",
    "car_cascade = cv2.CascadeClassifier('cars.xml')\n",
    "# cap.read()"
   ]
  },
  {
   "cell_type": "code",
   "execution_count": 3,
   "metadata": {},
   "outputs": [],
   "source": [
    "while True:\n",
    "    ret,frames = cap.read()\n",
    "    gray = cv2.cvtColor(frames,cv2.COLOR_BGR2GRAY)\n",
    "#     scaleFactor: Parameter specifying how much the image size is reduced at each image scale.\n",
    "#     minNeighbors: Parameter specifying how many neighbors each candidate rectangle should have to retain it\n",
    "    cars = car_cascade.detectMultiScale(gray,1.8,2)\n",
    "    for (x,y,w,h) in cars:\n",
    "        cv2.rectangle(frames,(x,y),(x+w,y+h),(0,0,255,2))\n",
    "        \n",
    "    cv2.imshow('video',frames)\n",
    "    if cv2.waitKey(33)==27:\n",
    "        break\n",
    "        \n",
    "cv2.destroyAllWindows()\n",
    "        "
   ]
  },
  {
   "cell_type": "code",
   "execution_count": null,
   "metadata": {},
   "outputs": [],
   "source": []
  }
 ],
 "metadata": {
  "kernelspec": {
   "display_name": "Python 3",
   "language": "python",
   "name": "python3"
  },
  "language_info": {
   "codemirror_mode": {
    "name": "ipython",
    "version": 3
   },
   "file_extension": ".py",
   "mimetype": "text/x-python",
   "name": "python",
   "nbconvert_exporter": "python",
   "pygments_lexer": "ipython3",
   "version": "3.6.5"
  }
 },
 "nbformat": 4,
 "nbformat_minor": 2
}
